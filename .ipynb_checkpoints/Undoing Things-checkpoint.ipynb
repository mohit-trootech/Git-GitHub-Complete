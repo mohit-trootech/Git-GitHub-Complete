{
 "cells": [
  {
   "cell_type": "markdown",
   "id": "cbeff470-63d9-4915-8264-852ba76d526d",
   "metadata": {},
   "source": [
    "# Undoing things\n",
    "\n",
    "At any stage, you may want to undo something. Here, we’ll review a few basic tools for undoing changes that you’ve made. Be careful, because you can’t always undo some of these undos. This is one of the few areas in Git where you may lose some work if you do it wrong.\n",
    "\n",
    "Let's Take an Example of Why to undoing Things, lets say you working on an application and the work is done lets say you staged all the files and ready to commit, BUT at the last moment you recalled about a last change, may be a file rename, unstage a file, secret key change, file remove, or may be anything. and you updated that changes but without again staged that file, now the modified file is in staged area, that's why one more commit for this is senseless, that's where the concept of undoing thing comes.\n",
    "\n",
    "#### ```git commit --amend```\n",
    "\n"
   ]
  }
 ],
 "metadata": {
  "kernelspec": {
   "display_name": "Python 3 (ipykernel)",
   "language": "python",
   "name": "python3"
  },
  "language_info": {
   "codemirror_mode": {
    "name": "ipython",
    "version": 3
   },
   "file_extension": ".py",
   "mimetype": "text/x-python",
   "name": "python",
   "nbconvert_exporter": "python",
   "pygments_lexer": "ipython3",
   "version": "3.11.0"
  }
 },
 "nbformat": 4,
 "nbformat_minor": 5
}
